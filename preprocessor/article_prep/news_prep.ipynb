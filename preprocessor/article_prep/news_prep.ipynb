{
  "cells": [
    {
      "cell_type": "code",
      "execution_count": 1,
      "metadata": {
        "id": "GrzCcGqHrjzG"
      },
      "outputs": [],
      "source": [
        "import pandas as pd\n",
        "from tqdm import tqdm\n",
        "from konlpy.tag import Mecab\n",
        "\n",
        "df = pd.read_csv('/Users/stillssi/Desktop/ASSJ/data/news_article_list.csv')"
      ]
    },
    {
      "cell_type": "code",
      "execution_count": 2,
      "metadata": {
        "id": "D92-BytBstRV"
      },
      "outputs": [],
      "source": [
        "import re\n",
        "import string\n",
        "\n",
        "def preprocessing(text, writer=None, press=None):\n",
        "    '''\n",
        "    뉴스기사 전처리 함수입니다.\n",
        "    writer = 기자명\n",
        "    press = 언론사\n",
        "    '''\n",
        "    # 숫자, 소숫점 제거\n",
        "    text = re.sub('\\d+\\.\\d*', '',text)\n",
        "\n",
        "    # 이메일, URl 제거\n",
        "    text = re.sub(\"([a-zA-Z0-9-]+(\\@|\\.)[a-zA-Z0-9-.]+)\", '', text)\n",
        "    text = re.sub(r\"[a-zA-Z0-9]\", '', text)\n",
        "    # 다수의 점 (ex : ...) 점 한개로 대체\n",
        "    text = re.sub(\"\\.+\\.\", '.', text)\n",
        "    # 다수의 공백 축소\n",
        "    parenthesize_pattern = re.compile(r\"\\[[^]]*\\]|\\([^)]*\\)|\\<[^>]*\\>|\\【[^\\】]*\\】|\\＜[^\\＞]*\\＞\")\n",
        "    text = parenthesize_pattern.sub(\"\", text).strip()\n",
        "    reporter_pattern = re.compile(r\"([가-힣]{2,5} 기자)|([가-힣]{2,5}기자)\")\n",
        "    text = reporter_pattern.sub('', text)\n",
        "    symbols = string.punctuation.replace(\".\", \"\").replace(\"?\", \"\").replace(\"!\", \"\") + \"·ㆍ■◆△▷▶▼�\"\"''…※↑↓▲☞ⓒ⅔①②③④⑤⑥⑦⑧⑨⑩○●〈〉‘´´“”?★◇’◇㎡!©→㎞∼ℓ━\"\n",
        "    text = text.translate(str.maketrans(\"\", \"\", symbols))\n",
        "    text = re.sub(' +', ' ', text)\n",
        "    text = ' '.join(text.split())\n",
        "    # 불용어\n",
        "    if writer:\n",
        "        text = text.replace(writer, '')\n",
        "    if press:\n",
        "        text = text.replace(press, '')\n",
        "\n",
        "    text = text.replace('Copyrights', '').replace('무단 전재 및 재배포 금지', '')\n",
        "\n",
        "    return text"
      ]
    },
    {
      "cell_type": "code",
      "execution_count": 3,
      "metadata": {
        "id": "jiLdXtvLWHev"
      },
      "outputs": [],
      "source": [
        "def mecab_morphs(data):\n",
        "    pos_list = {'NNG','NNP'}\n",
        "    mecab = Mecab()\n",
        "    data_token = mecab.morphs(data)\n",
        "    data_token = ' '.join(data_token)\n",
        "    pos_token = mecab.pos(data_token)\n",
        "    pos_result = []\n",
        "    for p in pos_token:\n",
        "        if p[1] in pos_list:\n",
        "            pos_result.append(p[0])\n",
        "    pos_result = list(set(pos_result))\n",
        "    \n",
        "    return ' '.join(pos_result)"
      ]
    },
    {
      "cell_type": "code",
      "execution_count": 4,
      "metadata": {
        "id": "TV35tgNAWHc5"
      },
      "outputs": [],
      "source": [
        "df['prep'] = ''"
      ]
    },
    {
      "cell_type": "code",
      "execution_count": 6,
      "metadata": {
        "id": "NefM0ZgmAzuB"
      },
      "outputs": [],
      "source": [
        "df.drop(['Unnamed: 0','Unnamed: 0.1'], axis=1, inplace=True)"
      ]
    },
    {
      "cell_type": "code",
      "execution_count": null,
      "metadata": {
        "colab": {
          "base_uri": "https://localhost:8080/"
        },
        "id": "VvhdyS-wQHYG",
        "outputId": "4e53f596-4fcf-466c-9eb3-fa450fc021de"
      },
      "outputs": [
        {
          "name": "stderr",
          "output_type": "stream",
          "text": [
            "100%|██████████| 222726/222726 [51:56<00:00, 71.48it/s]\n"
          ]
        }
      ],
      "source": [
        "for i in tqdm(range(len(df))):\n",
        "  text = df['content'].iloc[i]\n",
        "  text = preprocessing(text)\n",
        "  text = ' '.join(text.split('.')[:-1])\n",
        "  text = mecab_morphs(text)\n",
        "  df['prep'].iloc[i] = text\n"
      ]
    },
    {
      "cell_type": "code",
      "execution_count": null,
      "metadata": {
        "id": "AR8LmwJ1c73_"
      },
      "outputs": [],
      "source": [
        "df.drop(['content'], axis=1, inplace=True)"
      ]
    },
    {
      "cell_type": "code",
      "execution_count": null,
      "metadata": {
        "id": "esZvfMSnWHYu"
      },
      "outputs": [],
      "source": [
        "f = open('/content/drive/MyDrive/ko-dic.txt', 'r')\n",
        "lines = f.readlines()\n",
        "stopwords_list = []\n",
        "for l in lines:\n",
        "    l = l.replace('\\n','')\n",
        "    stopwords_list.append(l)\n",
        "f.close()"
      ]
    },
    {
      "cell_type": "code",
      "execution_count": 7,
      "metadata": {},
      "outputs": [],
      "source": [
        "df['ngram'] = ''"
      ]
    },
    {
      "cell_type": "code",
      "execution_count": null,
      "metadata": {
        "colab": {
          "base_uri": "https://localhost:8080/"
        },
        "id": "fy-YUV-hWHRv",
        "outputId": "20640397-7241-4d0a-a1a1-762e840d3509"
      },
      "outputs": [
        {
          "name": "stderr",
          "output_type": "stream",
          "text": [
            "100%|██████████| 222726/222726 [23:30<00:00, 157.93it/s]\n"
          ]
        }
      ],
      "source": [
        "from konlpy.tag import Mecab\n",
        "\n",
        "mecab = Mecab()\n",
        "w = open('/content/drive/MyDrive/stopword.txt', 'a+')\n",
        "for i in tqdm(range(len(df))):\n",
        "    data_token = mecab.morphs(df['prep'].iloc[i]) \n",
        "    result = []\n",
        "    for token in data_token:\n",
        "        if token not in stopwords_list:\n",
        "            result.append(token)\n",
        "        else:\n",
        "          w.write(token+'\\n')\n",
        "    token_result = ' '.join(result)\n",
        "    token_result = token_result.replace('불 확실', '불확실')\n",
        "    token_result = token_result.replace('불 균형', '불균형')\n",
        "    token_result = token_result.replace('불 호황', '불호황')\n",
        "    token_result = token_result.replace('입 주량', '입주량')\n",
        "    token_result = token_result.replace('종 부세', '종부세')\n",
        "    \n",
        "    df['ngram'].iloc[i] = token_result"
      ]
    },
    {
      "cell_type": "code",
      "execution_count": null,
      "metadata": {
        "id": "SKp3jqpgpSnA"
      },
      "outputs": [],
      "source": [
        "df.drop(['prep'],axis=1, inplace=True)\n",
        "df.rename(columns={'ngram':'prep'}, inplace=True)"
      ]
    },
    {
      "cell_type": "code",
      "execution_count": null,
      "metadata": {
        "id": "TJ4sLQsvjWKe"
      },
      "outputs": [],
      "source": [
        "df.to_csv('/content/drive/MyDrive/news_preprocessed.csv')"
      ]
    }
  ],
  "metadata": {
    "accelerator": "GPU",
    "colab": {
      "machine_shape": "hm",
      "provenance": []
    },
    "gpuClass": "premium",
    "kernelspec": {
      "display_name": "Python 3",
      "language": "python",
      "name": "python3"
    },
    "language_info": {
      "codemirror_mode": {
        "name": "ipython",
        "version": 3
      },
      "file_extension": ".py",
      "mimetype": "text/x-python",
      "name": "python",
      "nbconvert_exporter": "python",
      "pygments_lexer": "ipython3",
      "version": "3.11.0 (v3.11.0:deaf509e8f, Oct 24 2022, 14:43:23) [Clang 13.0.0 (clang-1300.0.29.30)]"
    },
    "vscode": {
      "interpreter": {
        "hash": "949777d72b0d2535278d3dc13498b2535136f6dfe0678499012e853ee9abcab1"
      }
    }
  },
  "nbformat": 4,
  "nbformat_minor": 0
}
