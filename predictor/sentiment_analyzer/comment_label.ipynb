{
 "cells": [
  {
   "cell_type": "code",
   "execution_count": null,
   "metadata": {},
   "outputs": [],
   "source": [
    "import pandas as pd\n",
    "from sklearn.preprocessing import MinMaxScaler\n",
    "\n",
    "naver = pd.read_csv('/Users/stillssi/Desktop/ASSJ/data/naver_comment_labeled.csv')\n",
    "youtube = pd.read_csv('/Users/stillssi/Desktop/ASSJ/data/youtube_comment_labeled.csv')"
   ]
  },
  {
   "cell_type": "code",
   "execution_count": null,
   "metadata": {},
   "outputs": [],
   "source": [
    "naver.drop(['Unnamed: 0'], axis=1, inplace=True)\n",
    "naver.rename(columns={'Content':'comment'}, inplace=True)\n",
    "youtube.drop(['Unnamed: 0','Unnamed: 0.1'], axis=1, inplace=True)\n",
    "youtube = youtube[['publishedAt','comment','label']]\n",
    "youtube.rename(columns={'publishedAt':'WritedAt'}, inplace=True)\n",
    "df = pd.concat([naver, youtube], axis=0)"
   ]
  },
  {
   "cell_type": "code",
   "execution_count": null,
   "metadata": {},
   "outputs": [],
   "source": [
    "df['WritedAt']  = pd.to_datetime(df['WritedAt'])\n",
    "df = df.set_index('WritedAt')"
   ]
  },
  {
   "cell_type": "code",
   "execution_count": null,
   "metadata": {},
   "outputs": [],
   "source": [
    "newDf = df.resample(rule='M').mean()\n",
    "newDf = newDf.reset_index()"
   ]
  },
  {
   "cell_type": "code",
   "execution_count": null,
   "metadata": {},
   "outputs": [],
   "source": [
    "scaler1 = MinMaxScaler()\n",
    "newDf['label'] = scaler1.fit_transform(newDf['label'].values.reshape(-1,1))"
   ]
  },
  {
   "cell_type": "code",
   "execution_count": null,
   "metadata": {},
   "outputs": [],
   "source": [
    "newDf.to_csv('./comment_label.csv')"
   ]
  },
  {
   "cell_type": "code",
   "execution_count": null,
   "metadata": {},
   "outputs": [],
   "source": [
    "newDf['label'].plot()\n"
   ]
  }
 ],
 "metadata": {
  "kernelspec": {
   "display_name": "project1",
   "language": "python",
   "name": "python3"
  },
  "language_info": {
   "codemirror_mode": {
    "name": "ipython",
    "version": 3
   },
   "file_extension": ".py",
   "mimetype": "text/x-python",
   "name": "python",
   "nbconvert_exporter": "python",
   "pygments_lexer": "ipython3",
   "version": "3.8.15 (default, Nov 10 2022, 13:17:42) \n[Clang 14.0.6 ]"
  },
  "orig_nbformat": 4,
  "vscode": {
   "interpreter": {
    "hash": "bb0c2b2e33a8bbc9324abe172f16f5be0a36d26d93f9b38dc3fecfa8c79d8138"
   }
  }
 },
 "nbformat": 4,
 "nbformat_minor": 2
}
