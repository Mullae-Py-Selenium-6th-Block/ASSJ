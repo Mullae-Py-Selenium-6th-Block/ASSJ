{
  "cells": [
    {
      "cell_type": "markdown",
      "metadata": {
        "id": "BRoeApwBTc5d"
      },
      "source": [
        "## 기사를 통한 kobert 모델 생성"
      ]
    },
    {
      "cell_type": "code",
      "execution_count": null,
      "metadata": {
        "colab": {
          "base_uri": "https://localhost:8080/"
        },
        "id": "N1gIAJx1ZFIF",
        "outputId": "71dd243c-5bc1-4d37-8fd3-b4b7cf5699d5"
      },
      "outputs": [],
      "source": [
        "# !pip uninstall torch torchvision\n",
        "# !pip install torch==1.7.1+cu110 torchvision==0.8.2+cu110 -f https://download.pytorch.org/whl/torch_stable.html\n",
        "#pip install git+https://git@github.com/SKTBrain/KoBERT.git@master"
      ]
    },
    {
      "cell_type": "code",
      "execution_count": 5,
      "metadata": {},
      "outputs": [
        {
          "ename": "ModuleNotFoundError",
          "evalue": "No module named 'torch'",
          "output_type": "error",
          "traceback": [
            "\u001b[0;31m---------------------------------------------------------------------------\u001b[0m",
            "\u001b[0;31mModuleNotFoundError\u001b[0m                       Traceback (most recent call last)",
            "Cell \u001b[0;32mIn [5], line 1\u001b[0m\n\u001b[0;32m----> 1\u001b[0m \u001b[39mimport\u001b[39;00m \u001b[39mtorch\u001b[39;00m\n\u001b[1;32m      2\u001b[0m \u001b[39mfrom\u001b[39;00m \u001b[39mtorch\u001b[39;00m \u001b[39mimport\u001b[39;00m nn\n\u001b[1;32m      3\u001b[0m \u001b[39mimport\u001b[39;00m \u001b[39mtorch\u001b[39;00m\u001b[39m.\u001b[39;00m\u001b[39mnn\u001b[39;00m\u001b[39m.\u001b[39;00m\u001b[39mfunctional\u001b[39;00m \u001b[39mas\u001b[39;00m \u001b[39mF\u001b[39;00m\n",
            "\u001b[0;31mModuleNotFoundError\u001b[0m: No module named 'torch'"
          ]
        }
      ],
      "source": [
        "import torch\n",
        "from torch import nn\n",
        "import torch.nn.functional as F\n",
        "import torch.optim as optim\n",
        "from torch.utils.data import Dataset, DataLoader\n",
        "import gluonnlp as nlp\n",
        "import numpy as np\n",
        "import pandas as pd\n",
        "from kobert import get_pytorch_kobert_model\n",
        "from tqdm import tqdm\n",
        "import os\n",
        "#kobert\n",
        "from kobert.utils import get_tokenizer\n",
        "from kobert.pytorch_kobert import get_pytorch_kobert_model\n",
        "\n",
        "#transformers\n",
        "from transformers import AdamW # 인공지능 모델의 초기값 지정 함수를 아담으로 지정한다.\n",
        "from transformers.optimization import get_cosine_schedule_with_warmup\n",
        "\n",
        "from sklearn.model_selection import train_test_split\n",
        "\n",
        "\n",
        "max_len = 64\n",
        "batch_size = 64\n",
        "warmup_ratio = 0.1\n",
        "num_epochs = 15\n",
        "max_grad_norm = 1\n",
        "log_interval = 100\n",
        "learning_rate =  5e-5\n",
        "device = torch.device(\"cuda:0\")\n",
        "bertmodel, vocab = get_pytorch_kobert_model()"
      ]
    },
    {
      "cell_type": "code",
      "execution_count": null,
      "metadata": {
        "id": "g1GGnXQxAM7q"
      },
      "outputs": [],
      "source": [
        "\n",
        "df = pd.read_csv('/Users/stillssi/Desktop/ASSJ/data/article_preprocessed.csv')"
      ]
    },
    {
      "cell_type": "code",
      "execution_count": null,
      "metadata": {
        "id": "m2cdf8l6sobt"
      },
      "outputs": [],
      "source": [
        "#1과0 일정한 비율로 데이터 뽑아서 train, test data 각각 return\n",
        "def same_sampling(df):\n",
        "  one = df[df['label'] == 1].sample(n=40000)\n",
        "  zero = df[df['label']== 0].sample(n=40000)\n",
        "  \n",
        "  new_df = pd.concat([one, zero], axis=0)\n",
        "  new_df = new_df.sample(frac=1)\n",
        "  \n",
        "  new_df = new_df[['prep','label']]\n",
        "  new_df['prep'].dropna(axis=0, inplace=True)\n",
        "  \n",
        "  data = new_df[['prep']]\n",
        "  label = new_df[['label']]\n",
        "\n",
        "  \n",
        "  X_train, X_test, y_train, y_test = train_test_split(data, label,test_size=0.3,shuffle=True, random_state=1004)\n",
        "  train_df = pd.concat([X_train, y_train], axis=1)\n",
        "  test_df = pd.concat([X_test, y_test], axis=1)\n",
        "  \n",
        "  train_df['prep'] = train_df['prep'].apply(lambda x: str(x))\n",
        "  test_df['prep'] = test_df['prep'].apply(lambda x: str(x))\n",
        "  \n",
        "  return train_df, test_df\n",
        "\n",
        "#정확도 측정을 위한 함수 정의\n",
        "def calc_accuracy(X,Y):\n",
        "    max_vals, max_indices = torch.max(X, 1)\n",
        "    train_acc = (max_indices == Y).sum().data.cpu().numpy()/max_indices.size()[0]\n",
        "    return train_acc\n",
        "\n",
        "def gpu_count():\n",
        "    n_devices = torch.cuda.device_count()\n",
        "    print(n_devices)\n",
        "\n",
        "    for i in range(n_devices):\n",
        "        print(torch.cuda.get_device_name(i))\n",
        "\n",
        "def new_softmax(a) : \n",
        "    c = np.max(a) # 최댓값\n",
        "    exp_a = np.exp(a-c) #                                                                                                                                                     각각의 원소에 최댓값을 뺀 값에 exp를 취한다. (이를 통해 overflow 방지)\n",
        "    sum_exp_a = np.sum(exp_a)\n",
        "    y = (exp_a / sum_exp_a) * 100\n",
        "    return np.round(y, 3)\n",
        "\n",
        "#==================================================\n",
        "#모델링을 위한 데이터 셋\n",
        "class BERTDataset(Dataset):\n",
        "  def __init__(self, dataset, sent_idx, label_idx, bert_tokenizer, max_len,\n",
        "                pad, pair):\n",
        "      transform = nlp.data.BERTSentenceTransform(\n",
        "          bert_tokenizer, max_seq_length=max_len, pad=pad, pair=pair)\n",
        "\n",
        "      self.sentences = [transform([i[sent_idx]]) for i in dataset]\n",
        "      self.labels = [np.int32(i[label_idx]) for i in dataset]\n",
        "\n",
        "  def __getitem__(self, i):\n",
        "      return (self.sentences[i] + (self.labels[i], ))\n",
        "\n",
        "  def __len__(self):\n",
        "      return (len(self.labels))  \n",
        "\n",
        "#===================================================\n",
        "#모델링 클래스\n",
        "class BERTClassifier(nn.Module): ## 클래스를 상속\n",
        "    def __init__(self,\n",
        "                 bert,\n",
        "                 hidden_size = 768,\n",
        "                 num_classes=2,   ##클래스 수 조정##\n",
        "                 dr_rate=None,\n",
        "                 params=None):\n",
        "        super(BERTClassifier, self).__init__()\n",
        "        self.bert = bert\n",
        "        self.dr_rate = dr_rate\n",
        "                 \n",
        "        self.classifier = nn.Linear(hidden_size , num_classes)\n",
        "        if dr_rate:\n",
        "            self.dropout = nn.Dropout(p=dr_rate)\n",
        "    \n",
        "    def gen_attention_mask(self, token_ids, valid_length):\n",
        "        attention_mask = torch.zeros_like(token_ids)\n",
        "        for i, v in enumerate(valid_length):\n",
        "            attention_mask[i][:v] = 1\n",
        "        return attention_mask.float()\n",
        "\n",
        "    def forward(self, token_ids, valid_length, segment_ids):\n",
        "        attention_mask = self.gen_attention_mask(token_ids, valid_length)\n",
        "        \n",
        "        _, pooler = self.bert(input_ids = token_ids, token_type_ids = segment_ids.long(), attention_mask = attention_mask.float().to(token_ids.device))\n",
        "        if self.dr_rate:\n",
        "            out = self.dropout(pooler)\n",
        "        return self.classifier(out)"
      ]
    },
    {
      "cell_type": "code",
      "execution_count": 1,
      "metadata": {
        "id": "I-xW4C-ZQaT0"
      },
      "outputs": [],
      "source": [
        "def modeling(df, train):\n",
        "    '''\n",
        "    모델링 함수\n",
        "    '''\n",
        "    #BERT 모델 불러오기\n",
        "    model = BERTClassifier(bertmodel,  dr_rate=0.5).to(device)\n",
        "    #optimizer와 schedule 설정\n",
        "    no_decay = ['bias', 'LayerNorm.weight']\n",
        "    optimizer_grouped_parameters = [\n",
        "        {'params': [p for n, p in model.named_parameters() if not any(nd in n for nd in no_decay)], 'weight_decay': 0.01},\n",
        "        {'params': [p for n, p in model.named_parameters() if any(nd in n for nd in no_decay)], 'weight_decay': 0.0}\n",
        "    ]\n",
        "    \n",
        "    train_df, test_df = same_sampling(df)\n",
        "    data_train = BERTDataset(train_df.values, 0, 1, tok, max_len, True, False)\n",
        "    data_test = BERTDataset(test_df.values, 0, 1, tok, max_len, True, False)\n",
        "    train_dataloader = torch.utils.data.DataLoader(data_train, batch_size=batch_size, num_workers=5)\n",
        "    test_dataloader = torch.utils.data.DataLoader(data_test, batch_size=batch_size, num_workers=5)\n",
        "\n",
        "    optimizer = AdamW(optimizer_grouped_parameters, lr=learning_rate)\n",
        "    loss_fn = nn.CrossEntropyLoss()\n",
        "\n",
        "    t_total = len(train_dataloader) * num_epochs\n",
        "    warmup_step = int(t_total * warmup_ratio)\n",
        "\n",
        "    scheduler = get_cosine_schedule_with_warmup(optimizer, num_warmup_steps=warmup_step, num_training_steps=t_total)\n",
        "\n",
        "\n",
        "    for e in range(num_epochs):\n",
        "        train_acc = 0.0\n",
        "        test_acc = 0.0\n",
        "        model.train()\n",
        "        train_df, test_df = same_sampling(df)\n",
        "        \n",
        "        data_train = BERTDataset(train_df.values, 0, 1, tok, max_len, True, False)\n",
        "        data_test = BERTDataset(test_df.values, 0, 1, tok, max_len, True, False)\n",
        "        train_dataloader = torch.utils.data.DataLoader(data_train, batch_size=batch_size, num_workers=5)\n",
        "        test_dataloader = torch.utils.data.DataLoader(data_test, batch_size=batch_size, num_workers=5)\n",
        "        \n",
        "        for batch_id, (token_ids, valid_length, segment_ids, label) in enumerate(tqdm_notebook(train_dataloader)):\n",
        "            optimizer.zero_grad()\n",
        "            token_ids = token_ids.long().to(device)\n",
        "            segment_ids = segment_ids.long().to(device)\n",
        "            valid_length= valid_length\n",
        "            label = label.long().to(device)\n",
        "            out = model(token_ids, valid_length, segment_ids)\n",
        "            loss = loss_fn(out, label)\n",
        "            loss.backward()\n",
        "            torch.nn.utils.clip_grad_norm_(model.parameters(), max_grad_norm)\n",
        "            optimizer.step()\n",
        "            scheduler.step()  # Update learning rate schedule\n",
        "            train_acc += calc_accuracy(out, label)\n",
        "            if batch_id % log_interval == 0:\n",
        "                print(\"epoch {} batch id {} loss {} train acc {}\".format(e+1, batch_id+1, loss.data.cpu().numpy(), train_acc / (batch_id+1)))\n",
        "        print(\"epoch {} train acc {}\".format(e+1, train_acc / (batch_id+1)))\n",
        "        \n",
        "        model.eval()\n",
        "        for batch_id, (token_ids, valid_length, segment_ids, label) in enumerate(tqdm_notebook(test_dataloader)):\n",
        "            token_ids = token_ids.long().to(device)\n",
        "            segment_ids = segment_ids.long().to(device)\n",
        "            valid_length= valid_length\n",
        "            label = label.long().to(device)\n",
        "            out = model(token_ids, valid_length, segment_ids)\n",
        "            test_acc += calc_accuracy(out, label)\n",
        "        print(\"epoch {} test acc {}\".format(e+1, test_acc / (batch_id+1)))\n",
        "    return model, optimizer"
      ]
    },
    {
      "cell_type": "code",
      "execution_count": 3,
      "metadata": {},
      "outputs": [],
      "source": [
        "def save_model(model, optimizer):\n",
        "    '''\n",
        "    모델 저장 함수\n",
        "    '''\n",
        "    PATH = '/content/drive/MyDrive/Model/KoBert/' # google 드라이브 연동 해야함. 관련코드는 뺐음\n",
        "    torch.save(model, PATH + 'KoBERT_news.pt')  # 전체 모델 저장\n",
        "    torch.save(model.state_dict(), PATH + 'model_state_dict.pt')  # 모델 객체의 state_dict 저장\n",
        "    torch.save({\n",
        "        'model': model.state_dict(),\n",
        "        'optimizer': optimizer.state_dict()\n",
        "    }, PATH + 'all.tar')  # 여러 가지 값 저장, 학습 중 진행 상황 저장을 위해 epoch, loss 값 등 일반 scalar값 저장 가능"
      ]
    },
    {
      "cell_type": "code",
      "execution_count": null,
      "metadata": {
        "id": "qsbIdPuMP-qJ"
      },
      "outputs": [],
      "source": [
        "import pandas as pd"
      ]
    },
    {
      "cell_type": "markdown",
      "metadata": {
        "id": "TWT_oM81TYEv"
      },
      "source": [
        "## **댓글** 감성 분석 실시"
      ]
    },
    {
      "cell_type": "code",
      "execution_count": null,
      "metadata": {
        "id": "lMd4A16uvWEn"
      },
      "outputs": [],
      "source": [
        "naver = pd.read_csv('preprocessed_naver_news_comment.csv')\n",
        "naver = naver[['Content']]\n",
        "naver['label'] = 1\n",
        "\n",
        "\n",
        "youtube = pd.read_csv('preprocessed_youtube.csv')\n",
        "youtube = youtube[['comment']]\n",
        "youtube['label'] = 1\n",
        "\n",
        "tokenizer = get_tokenizer()\n",
        "tok = nlp.data.BERTSPTokenizer(tokenizer, vocab, lower=False)"
      ]
    },
    {
      "cell_type": "code",
      "execution_count": null,
      "metadata": {
        "id": "W3llUYr6z24Y"
      },
      "outputs": [],
      "source": [
        "## 학습 모델 로드\n",
        "def load_model():\n",
        "    PATH = '/content/drive/MyDrive/Model/KoBert/'\n",
        "    model = torch.load(PATH + 'KoBERT_news.pt')  # 전체 모델을 통째로 불러옴, 클래스 선언 필수\n",
        "    model.load_state_dict(torch.load(PATH + 'model_state_dict.pt'))  # state_dict를 불러 온 후, 모델에 저장\n",
        "    return model\n",
        "\n",
        "\n",
        "def sentiment_analysis(df, model):\n",
        "    data_test = BERTDataset(df.values, 0, 1, tok, max_len, True, False)\n",
        "    test_dataloader = torch.utils.data.DataLoader(data_test, batch_size=batch_size, num_workers=5)\n",
        "    model.eval()\n",
        "    \n",
        "    id= 0\n",
        "    for batch_id, (token_ids, valid_length, segment_ids, label) in enumerate(tqdm(test_dataloader)):\n",
        "        token_ids = token_ids.long().to(device)\n",
        "        segment_ids = segment_ids.long().to(device)\n",
        "\n",
        "        valid_length= valid_length\n",
        "        label = label.long().to(device)\n",
        "        \n",
        "        out = model(token_ids, valid_length, segment_ids)\n",
        "        probability = []\n",
        "        print(out.shape)\n",
        "\n",
        "        for i in out:\n",
        "            logits=i\n",
        "            logits = logits.detach().cpu().numpy()\n",
        "            min_v = min(logits)\n",
        "            total = 0\n",
        "            \n",
        "            logits = np.round(new_softmax(logits), 3).tolist()\n",
        "            for logit in logits:\n",
        "                # print(logit)\n",
        "                probability.append(np.round(logit, 3))\n",
        "\n",
        "            if np.argmax(logits) == 0:  emotion = 0\n",
        "            else: emotion = 1\n",
        "            df['label'].iloc[id] = emotion\n",
        "            \n",
        "            id +=1\n",
        "\n",
        "    return df"
      ]
    },
    {
      "cell_type": "code",
      "execution_count": null,
      "metadata": {
        "colab": {
          "base_uri": "https://localhost:8080/"
        },
        "collapsed": true,
        "id": "Kt5mjUSlbBkE",
        "outputId": "1cae605e-875a-4af9-fbb6-de3d31489786"
      },
      "outputs": [],
      "source": [
        "## 학습 모델 저장\n",
        "tokenizer = get_tokenizer()\n",
        "tok = nlp.data.BERTSPTokenizer(tokenizer, vocab, lower=False)\n",
        "\n",
        "model, optimizer = modeling()\n",
        "save_model(model, optimizer)"
      ]
    },
    {
      "cell_type": "code",
      "execution_count": null,
      "metadata": {},
      "outputs": [],
      "source": [
        "\n",
        "# 감정 분석 수행\n",
        "tokenizer = get_tokenizer()\n",
        "tok = nlp.data.BERTSPTokenizer(tokenizer, vocab, lower=False)\n",
        "model = load_model()\n",
        "naver_label =sentiment_analysis(naver, model)\n",
        "youtube_label  = sentiment_analysis(youtube, model)\n"
      ]
    },
    {
      "cell_type": "code",
      "execution_count": null,
      "metadata": {
        "id": "NfQud93g4lf_"
      },
      "outputs": [],
      "source": [
        "naver = pd.concat([naver,naver_label['label']], axis=1)\n",
        "youtube = pd.concat([youtube,youtube_label['label']], axis=1)"
      ]
    },
    {
      "cell_type": "code",
      "execution_count": null,
      "metadata": {
        "id": "1uYs8qlu4xJW"
      },
      "outputs": [],
      "source": [
        "naver.to_csv('naver_comment_labeled.csv')\n",
        "youtube.to_csv('youtube_comment_labeled.csv')"
      ]
    }
  ],
  "metadata": {
    "accelerator": "GPU",
    "colab": {
      "machine_shape": "hm",
      "provenance": []
    },
    "gpuClass": "premium",
    "kernelspec": {
      "display_name": "Python 3",
      "language": "python",
      "name": "python3"
    },
    "language_info": {
      "codemirror_mode": {
        "name": "ipython",
        "version": 3
      },
      "file_extension": ".py",
      "mimetype": "text/x-python",
      "name": "python",
      "nbconvert_exporter": "python",
      "pygments_lexer": "ipython3",
      "version": "3.11.0"
    },
    "vscode": {
      "interpreter": {
        "hash": "949777d72b0d2535278d3dc13498b2535136f6dfe0678499012e853ee9abcab1"
      }
    }
  },
  "nbformat": 4,
  "nbformat_minor": 0
}
